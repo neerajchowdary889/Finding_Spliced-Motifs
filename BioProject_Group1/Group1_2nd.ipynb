{
 "cells": [
  {
   "cell_type": "code",
   "execution_count": 30,
   "outputs": [
    {
     "name": "stdout",
     "output_type": "stream",
     "text": [
      "1 4 6 7 9 10 13 17 18 20 29 33 38 48 54 57 58 66 79 81 83 87 97 98 99 104 105 112 118 121 125 135 138 140 160 162 164 167 168 169 171 177 \n",
      "Done.....\n"
     ]
    }
   ],
   "source": [
    "# 1st Code\n",
    "from Bio import SeqIO\n",
    "\n",
    "def find_spliced_motif(s, t):\n",
    "    position = [0]\n",
    "    for i in t:\n",
    "        position.append(s[position[-1]:].index(i) + 1 + position[-1])\n",
    "    for p in position[1:]:\n",
    "        print(p, end=\" \")\n",
    "\n",
    "if __name__ == \"__main__\":\n",
    "    seq_name = []\n",
    "    seq_string = []\n",
    "    with open(\"Bio1.txt\",'r') as fa:\n",
    "    #with open (\"Bio2.txt\",'r') as fa:\n",
    "    #Remove above hastag to access 2nd dataset and get output for the 2nd dataset\n",
    "        for seq_record  in SeqIO.parse(fa,'fasta'):\n",
    "            seq_name.append(str(seq_record.name))\n",
    "            seq_string.append(str(seq_record.seq))\n",
    "    fa.close()\n",
    "\n",
    "s = seq_string[0]\n",
    "t = seq_string[1]\n",
    "find_spliced_motif(s,t)\n",
    "print(\"\\nDone.....\")"
   ],
   "metadata": {
    "collapsed": false,
    "pycharm": {
     "name": "#%%\n"
    }
   }
  },
  {
   "cell_type": "code",
   "execution_count": 24,
   "outputs": [
    {
     "name": "stdout",
     "output_type": "stream",
     "text": [
      "1 4 6 7 9 10 13 17 18 20 29 33 38 48 54 57 58 66 79 81 83 87 97 98 99 104 105 112 118 121 125 135 138 140 160 162 164 167 168 169 171 177 \n",
      "Done.....\n"
     ]
    }
   ],
   "source": [
    "# 2nd Code\n",
    "from Bio import SeqIO\n",
    "\n",
    "sequences = []\n",
    "#handle = open('Bio2.txt', 'r')\n",
    "#Remove above hastag to access 2nd dataset and get output for the 2nd dataset\n",
    "handle = open('Bio1.txt', 'r')\n",
    "for record in SeqIO.parse(handle, 'fasta'):\n",
    "    sequences.append(str(record.seq))\n",
    "handle.close()\n",
    "\n",
    "s = sequences[0]\n",
    "t = sequences[1]\n",
    "\n",
    "pos = 0\n",
    "positions = []\n",
    "\n",
    "for i in range(len(t)):\n",
    "    for j in range(pos, len(s)):\n",
    "        pos += 1\n",
    "        if len(positions) < len(t):\n",
    "            if t[i] == s[j]:\n",
    "                positions.append(pos)\n",
    "                break\n",
    "\n",
    "print(*positions, end=' ')\n",
    "print(\"\\nDone.....\")"
   ],
   "metadata": {
    "collapsed": false,
    "pycharm": {
     "name": "#%%\n"
    }
   }
  }
 ],
 "metadata": {
  "kernelspec": {
   "display_name": "Python 3",
   "language": "python",
   "name": "python3"
  },
  "language_info": {
   "codemirror_mode": {
    "name": "ipython",
    "version": 2
   },
   "file_extension": ".py",
   "mimetype": "text/x-python",
   "name": "python",
   "nbconvert_exporter": "python",
   "pygments_lexer": "ipython2",
   "version": "2.7.6"
  }
 },
 "nbformat": 4,
 "nbformat_minor": 0
}