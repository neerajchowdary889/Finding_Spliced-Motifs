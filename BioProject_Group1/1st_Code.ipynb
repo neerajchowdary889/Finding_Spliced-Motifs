{
 "cells": [
  {
   "cell_type": "code",
   "execution_count": null,
   "metadata": {
    "collapsed": true,
    "pycharm": {
     "name": "#%%\n"
    }
   },
   "outputs": [],
   "source": [
    "# 1st Code\n",
    "from Bio import SeqIO\n",
    "\n",
    "def find_spliced_motif(s, t):\n",
    "    position = [0]\n",
    "    for i in t:\n",
    "        position.append(s[position[-1]:].index(i) + 1 + position[-1])\n",
    "    for p in position[1:]:\n",
    "        print(p, end=\" \")\n",
    "\n",
    "if __name__ == \"__main__\":\n",
    "    seq_name = []\n",
    "    seq_string = []\n",
    "    with open(\"Bio1.txt\",'r') as fa:\n",
    "    #with open (\"Bio2.txt\",'r') as fa:\n",
    "    #Remove above hastag to access 2nd dataset and get output for the 2nd dataset\n",
    "        for seq_record  in SeqIO.parse(fa,'fasta'):\n",
    "            seq_name.append(str(seq_record.name))\n",
    "            seq_string.append(str(seq_record.seq))\n",
    "    fa.close()\n",
    "s = seq_string[0]\n",
    "t = seq_string[1]\n",
    "find_spliced_motif(s,t)\n",
    "print(\"\\nDone.....\")"
   ]
  }
 ],
 "metadata": {
  "kernelspec": {
   "display_name": "Python 3",
   "language": "python",
   "name": "python3"
  },
  "language_info": {
   "codemirror_mode": {
    "name": "ipython",
    "version": 2
   },
   "file_extension": ".py",
   "mimetype": "text/x-python",
   "name": "python",
   "nbconvert_exporter": "python",
   "pygments_lexer": "ipython2",
   "version": "2.7.6"
  }
 },
 "nbformat": 4,
 "nbformat_minor": 0
}