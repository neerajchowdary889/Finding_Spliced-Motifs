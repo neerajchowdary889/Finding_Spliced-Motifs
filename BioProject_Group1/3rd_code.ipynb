{
 "cells": [
  {
   "cell_type": "code",
   "execution_count": 17,
   "metadata": {
    "collapsed": true,
    "pycharm": {
     "name": "#%%\n"
    }
   },
   "outputs": [
    {
     "name": "stdout",
     "output_type": "stream",
     "text": [
      "1 4 6 7 9 10 13 17 18 20 29 33 38 48 54 57 58 66 79 81 83 87 97 98 99 104 105 112 118 121 125 135 138 140 160 162 164 167 168 169 171 177 \n",
      "Done.....\n"
     ]
    }
   ],
   "source": [
    "def find_motif(data, motif):\n",
    "    position, indices = -1, ''\n",
    "    for nucleotide in motif:\n",
    "        position = data.find(nucleotide, position+1)\n",
    "        indices += str(position+1) + ' '\n",
    "    print(indices)\n",
    "\n",
    "with open('Bio1.txt', 'r') as file:\n",
    "    content = file.read()\n",
    "DNAs_number, lines, line_number, DNAs = content.count('>'), content.splitlines(), 0, []\n",
    "for i in range(DNAs_number):\n",
    "    DNA = ''\n",
    "    line_number = line_number + 1\n",
    "    while lines[line_number][0] != '>':\n",
    "        DNA += lines[line_number]\n",
    "        line_number += 1\n",
    "        if line_number+1 > len(lines):\n",
    "            break\n",
    "    DNAs.append(DNA)\n",
    "\n",
    "find_motif(DNAs[0], DNAs[1])\n",
    "print(\"Done.....\")"
   ]
  }
 ],
 "metadata": {
  "kernelspec": {
   "display_name": "Python 3",
   "language": "python",
   "name": "python3"
  },
  "language_info": {
   "codemirror_mode": {
    "name": "ipython",
    "version": 2
   },
   "file_extension": ".py",
   "mimetype": "text/x-python",
   "name": "python",
   "nbconvert_exporter": "python",
   "pygments_lexer": "ipython2",
   "version": "2.7.6"
  }
 },
 "nbformat": 4,
 "nbformat_minor": 0
}